{
 "cells": [
  {
   "cell_type": "markdown",
   "metadata": {},
   "source": [
    "1. Using problem 3 in week 1, write functions for the following:\n",
    "    1. Collecting the inputs for the problem. Convert the inputs to the relevant types they should be.\n",
    "    2. Calculating the equation given the inputs from the above.\n",
    "    3. Printing your result in a preformatted string.\n",
    "    \n",
    "    Ensure to include a main program that reads the values from the user."
   ]
  },
  {
   "cell_type": "code",
   "execution_count": 21,
   "metadata": {},
   "outputs": [
    {
     "name": "stdout",
     "output_type": "stream",
     "text": [
      "The distance between your first location and your second location is approximately: 3878.25 Killometers! \n",
      "\n"
     ]
    }
   ],
   "source": [
    "import math \n",
    "\n",
    "\n",
    "def distance():\n",
    "    \"\"\"\n",
    "    Calculates the distance between two points on Earth getting data from the users \n",
    "    \"\"\"\n",
    "## first we get the latitude and longitude of first point\n",
    "    latitude1 = math.radians(float(input(\"please eneter the first latitude  : \")))\n",
    "    longitude1 = math.radians(float(input(\"please eneter the first longitude  : \")))\n",
    "        \n",
    "    ## second we get the latitude and longitude of the second point\n",
    "    latitude2 = math.radians(float(input(\"please eneter the second latitude : \")))\n",
    "    longitude2 = math.radians(float(input(\"please eneter the second longitude : \")))\n",
    "        \n",
    "    distance = round(6371.01 * math.acos(math.sin(latitude1) * math.sin(latitude2) + \n",
    "           math.cos(latitude1)* math.cos(latitude2)* math.cos(longitude1 - longitude2 )),2)\n",
    "\n",
    "    print(f\"The distance between your first location and your second location is approximately: {distance} Killometers! \\n\")\n",
    "\n",
    "\n",
    "distance()\n"
   ]
  },
  {
   "cell_type": "code",
   "execution_count": 17,
   "metadata": {},
   "outputs": [],
   "source": [
    "import math \n",
    "\n",
    "\n",
    "def distance(latitude1,longitude1,latitude2,longitude2):\n",
    "    \"\"\"\n",
    "    Calculates the distance between two points on Earth by inserting coordinates inside the function.\n",
    "    \"\"\"\n",
    "    \n",
    "    ## converting the Degrees to radians\n",
    "    latitude1_r,longitude1_r,latitude2_r,longitude2_r = math.radians(latitude1),math.radians(longitude1),math.radians(latitude2),math.radians(longitude2)\n",
    "    \n",
    "    distance = round(6371.01 * math.acos(math.sin(latitude1_r) * math.sin(latitude2_r) + \n",
    "           math.cos(latitude1_r)* math.cos(latitude2_r)* math.cos(longitude1_r - longitude2_r )),2)\n",
    "\n",
    "    print(f\"The latitude of your first location is {latitude1} and the longitude of your second location is {longitude1} \\n\")\n",
    "    print(f\"The latitude of your first location is {latitude2} and the longitude of your second location is {longitude1} \\n\")\n",
    "    print(f\"The distance between your first location and your second location is approximately: {distance} Killometers! \\n\")\n",
    "\n"
   ]
  },
  {
   "cell_type": "code",
   "execution_count": 18,
   "metadata": {},
   "outputs": [
    {
     "name": "stdout",
     "output_type": "stream",
     "text": [
      "The latitude of your first location is 59.425279 and the longitude of your second location is 17.840057 \n",
      "\n",
      "The latitude of your first location is 32.6103 and the longitude of your second location is 17.840057 \n",
      "\n",
      "The distance between your first location and your second location is approximately: 3878.25 Killometers! \n",
      "\n"
     ]
    }
   ],
   "source": [
    "distance(59.425279 , 17.840057,32.610300, 51.562301)"
   ]
  },
  {
   "cell_type": "markdown",
   "metadata": {},
   "source": [
    "Q2"
   ]
  },
  {
   "cell_type": "markdown",
   "metadata": {},
   "source": [
    "Write a function that takes three numbers as parameters, and returns the mean value of those parameters as its result. Include a main program that reads three values from the user and displays their mean."
   ]
  },
  {
   "cell_type": "code",
   "execution_count": 89,
   "metadata": {},
   "outputs": [
    {
     "data": {
      "text/plain": [
       "2.0"
      ]
     },
     "execution_count": 89,
     "metadata": {},
     "output_type": "execute_result"
    }
   ],
   "source": [
    "def mean_calc():\n",
    "    a = float(input(\"enter a number :\"))\n",
    "    b = float(input(\"enter a number :\"))\n",
    "    c = float(input(\"enter a number :\"))\n",
    "    mean = (a + b + c) / 3 \n",
    "    return mean\n",
    "\n",
    "mean_calc() # 1,2,3"
   ]
  },
  {
   "cell_type": "code",
   "execution_count": 42,
   "metadata": {},
   "outputs": [
    {
     "data": {
      "text/plain": [
       "2.0"
      ]
     },
     "execution_count": 42,
     "metadata": {},
     "output_type": "execute_result"
    }
   ],
   "source": [
    "def mean_calc(*args):\n",
    "    return sum(args)/len(args)\n",
    "mean_calc(1,2,3)"
   ]
  },
  {
   "cell_type": "markdown",
   "metadata": {},
   "source": [
    "Only the words: Create a program that identifies all of the words in a string entered by a user. Begin by writing a function that takes a string of text as its only parameter. Your function should return a list of the words in the string with the punctuation marks removed. Punctuation marks include commas, periods, question marks, hyphens, apostrophes, exclamation points, colons, and semicolons. "
   ]
  },
  {
   "cell_type": "code",
   "execution_count": 102,
   "metadata": {},
   "outputs": [
    {
     "data": {
      "text/plain": [
       "['bands',\n",
       " 'which',\n",
       " 'have',\n",
       " 'connected',\n",
       " 'them',\n",
       " 'with',\n",
       " 'another',\n",
       " 'and',\n",
       " 'to',\n",
       " 'assume',\n",
       " 'among',\n",
       " 'the',\n",
       " 'powers',\n",
       " 'of',\n",
       " 'the',\n",
       " 'earth',\n",
       " 'the',\n",
       " 'separate',\n",
       " 'and',\n",
       " 'equal',\n",
       " 'station',\n",
       " 'to',\n",
       " 'which',\n",
       " 'the',\n",
       " 'laws',\n",
       " 'of',\n",
       " 'nature',\n",
       " 'and',\n",
       " 'of',\n",
       " 'natures',\n",
       " 'god',\n",
       " 'entitle',\n",
       " 'them',\n",
       " 'a',\n",
       " 'decent',\n",
       " 'respect',\n",
       " 'to',\n",
       " 'the',\n",
       " 'opinions',\n",
       " 'of',\n",
       " 'mankind',\n",
       " 'requires',\n",
       " 'that',\n",
       " 'they',\n",
       " 'should',\n",
       " 'declare',\n",
       " 'the',\n",
       " 'causes',\n",
       " 'which',\n",
       " 'impel',\n",
       " 'them',\n",
       " 'to',\n",
       " 'the',\n",
       " 'separation',\n",
       " 'we',\n",
       " 'hold',\n",
       " 'these',\n",
       " 'truths',\n",
       " 'to',\n",
       " 'be',\n",
       " 'selfevident',\n",
       " 'that',\n",
       " 'all',\n",
       " 'men',\n",
       " 'are',\n",
       " 'created',\n",
       " 'equal',\n",
       " 'that',\n",
       " 'they',\n",
       " 'are',\n",
       " 'endowed',\n",
       " 'by',\n",
       " 'their',\n",
       " 'creator',\n",
       " 'with',\n",
       " 'certain',\n",
       " 'unalienable',\n",
       " 'rights',\n",
       " 'that',\n",
       " 'among',\n",
       " 'these',\n",
       " 'are',\n",
       " 'life',\n",
       " 'liberty',\n",
       " 'and',\n",
       " 'the',\n",
       " 'pursuit',\n",
       " 'of',\n",
       " 'happinessthat',\n",
       " 'to',\n",
       " 'secure',\n",
       " 'these',\n",
       " 'rights',\n",
       " 'governments',\n",
       " 'are',\n",
       " 'instituted',\n",
       " 'among',\n",
       " 'men',\n",
       " 'deriving',\n",
       " 'their',\n",
       " 'just',\n",
       " 'powers',\n",
       " 'from',\n",
       " 'the',\n",
       " 'consent',\n",
       " 'of',\n",
       " 'the',\n",
       " 'governed',\n",
       " 'that',\n",
       " 'whenever',\n",
       " 'any',\n",
       " 'form',\n",
       " 'of',\n",
       " 'government',\n",
       " 'becomes',\n",
       " 'destructive',\n",
       " 'of',\n",
       " 'these',\n",
       " 'ends',\n",
       " 'it',\n",
       " 'is',\n",
       " 'the',\n",
       " 'right',\n",
       " 'of',\n",
       " 'the',\n",
       " 'people',\n",
       " 'to',\n",
       " 'alter',\n",
       " 'or',\n",
       " 'to',\n",
       " 'abolish',\n",
       " 'it',\n",
       " 'and',\n",
       " 'to',\n",
       " 'institute',\n",
       " 'new',\n",
       " 'government',\n",
       " 'laying',\n",
       " 'its',\n",
       " 'foundation',\n",
       " 'on',\n",
       " 'such',\n",
       " 'principles',\n",
       " 'and',\n",
       " 'organizing',\n",
       " 'its',\n",
       " 'powers',\n",
       " 'in',\n",
       " 'such',\n",
       " 'form',\n",
       " 'as',\n",
       " 'to',\n",
       " 'them',\n",
       " 'shall',\n",
       " 'seem',\n",
       " 'most',\n",
       " 'likely',\n",
       " 'to',\n",
       " 'effect',\n",
       " 'their',\n",
       " 'safety',\n",
       " 'and',\n",
       " 'happiness']"
      ]
     },
     "execution_count": 102,
     "metadata": {},
     "output_type": "execute_result"
    }
   ],
   "source": [
    "Text = \"\"\"bands ./?(){}'!,:; which have connected them with another, and to assume among the powers of the earth, the separate and equal station to which the Laws of Nature and of Nature's God entitle them, a decent respect to the opinions of mankind requires that they should declare the causes which impel them to the separation.  We hold these truths to be\n",
    "self-evident, that all men are created equal, that they are endowed by their Creator with certain unalienable Rights, that among these are Life, Liberty and the pursuit of Happiness.--That to secure these rights, Governments are instituted among Men, deriving their just powers from the consent of the governed, --That whenever any Form of Government becomes destructive of these ends, it is the Right of the People to alter or to abolish it, and to institute new Government, laying its foundation on such principles and organizing its powers in such form, as to them shall seem most likely to effect their Safety and Happiness. \"\"\"\n",
    "\n",
    "# Cleaning text and lower casing all words\n",
    "for char in {'.', ',', ':', '?', '-', ';', '!','\\\"','\\'','(', ')', '{', '}', '}','/'}:\n",
    "    Text = Text.replace(char, '')\n",
    "Text = Text.lower()\n",
    "# split returns a list of words delimited by sequences of whitespace (including tabs, newlines, etc, like re's \\s)\n",
    "word_list = Text.split()\n",
    "word_list\n"
   ]
  },
  {
   "cell_type": "code",
   "execution_count": 103,
   "metadata": {},
   "outputs": [
    {
     "data": {
      "text/plain": [
       "[('the', 12),\n",
       " ('to', 11),\n",
       " ('of', 9),\n",
       " ('and', 7),\n",
       " ('that', 5),\n",
       " ('them', 4),\n",
       " ('these', 4),\n",
       " ('are', 4),\n",
       " ('which', 3),\n",
       " ('among', 3),\n",
       " ('powers', 3),\n",
       " ('their', 3),\n",
       " ('with', 2),\n",
       " ('equal', 2),\n",
       " ('they', 2),\n",
       " ('men', 2),\n",
       " ('rights', 2),\n",
       " ('form', 2),\n",
       " ('government', 2),\n",
       " ('it', 2),\n",
       " ('its', 2),\n",
       " ('such', 2),\n",
       " ('bands', 1),\n",
       " ('have', 1),\n",
       " ('connected', 1),\n",
       " ('another', 1),\n",
       " ('assume', 1),\n",
       " ('earth', 1),\n",
       " ('separate', 1),\n",
       " ('station', 1),\n",
       " ('laws', 1),\n",
       " ('nature', 1),\n",
       " ('natures', 1),\n",
       " ('god', 1),\n",
       " ('entitle', 1),\n",
       " ('a', 1),\n",
       " ('decent', 1),\n",
       " ('respect', 1),\n",
       " ('opinions', 1),\n",
       " ('mankind', 1),\n",
       " ('requires', 1),\n",
       " ('should', 1),\n",
       " ('declare', 1),\n",
       " ('causes', 1),\n",
       " ('impel', 1),\n",
       " ('separation', 1),\n",
       " ('we', 1),\n",
       " ('hold', 1),\n",
       " ('truths', 1),\n",
       " ('be', 1),\n",
       " ('selfevident', 1),\n",
       " ('all', 1),\n",
       " ('created', 1),\n",
       " ('endowed', 1),\n",
       " ('by', 1),\n",
       " ('creator', 1),\n",
       " ('certain', 1),\n",
       " ('unalienable', 1),\n",
       " ('life', 1),\n",
       " ('liberty', 1),\n",
       " ('pursuit', 1),\n",
       " ('happinessthat', 1),\n",
       " ('secure', 1),\n",
       " ('governments', 1),\n",
       " ('instituted', 1),\n",
       " ('deriving', 1),\n",
       " ('just', 1),\n",
       " ('from', 1),\n",
       " ('consent', 1),\n",
       " ('governed', 1),\n",
       " ('whenever', 1),\n",
       " ('any', 1),\n",
       " ('becomes', 1),\n",
       " ('destructive', 1),\n",
       " ('ends', 1),\n",
       " ('is', 1),\n",
       " ('right', 1),\n",
       " ('people', 1),\n",
       " ('alter', 1),\n",
       " ('or', 1),\n",
       " ('abolish', 1),\n",
       " ('institute', 1),\n",
       " ('new', 1),\n",
       " ('laying', 1),\n",
       " ('foundation', 1),\n",
       " ('on', 1),\n",
       " ('principles', 1),\n",
       " ('organizing', 1),\n",
       " ('in', 1),\n",
       " ('as', 1),\n",
       " ('shall', 1),\n",
       " ('seem', 1),\n",
       " ('most', 1),\n",
       " ('likely', 1),\n",
       " ('effect', 1),\n",
       " ('safety', 1),\n",
       " ('happiness', 1)]"
      ]
     },
     "execution_count": 103,
     "metadata": {},
     "output_type": "execute_result"
    }
   ],
   "source": [
    "## We can expnad our program and count each word and\n",
    "## display the number of occurrences for each of them.\n",
    "\n",
    "# Initializing Dictionary\n",
    "d = {}\n",
    "# counting number of times each word comes up in list of words\n",
    "for key in word_list:\n",
    "    d[key] = d.get(key, 0) + 1\n",
    "\n",
    "## Next, sort from highest to lowest.\n",
    "number_of_words_sorted = sorted(d.items(), key=lambda x: x[1], reverse=True)\n",
    "number_of_words_sorted\n"
   ]
  },
  {
   "cell_type": "markdown",
   "metadata": {},
   "source": [
    "4. Create a program that will serve as a class database and will allow users to add names and scores to the database. For each name and score that is added, print the dictionary database for the user.\n",
    "    \n",
    "    Further Work: \n",
    "    \n",
    "    1. Add an improvement to subtract scores from a given user.\n",
    "    2. Add an improvement to save the database to a local file."
   ]
  },
  {
   "cell_type": "code",
   "execution_count": 53,
   "metadata": {},
   "outputs": [],
   "source": [
    "name_and_scores = {} \n",
    "def stu_score(name, score):    \n",
    "    if name.title() in name_and_scores.keys():\n",
    "        name_and_scores[name.title()] = name_and_scores[name.title()] + score\n",
    "        print(\"The student score updated!\")  \n",
    "    else:\n",
    "        name_and_scores[name.title()] = score\n",
    "        print(f\"A new student added!({name})\")\n",
    "    print(name_and_scores,\"\\n\")\n",
    "    \n",
    "def subtract_scores(name, deduction):\n",
    "    print(f\"Subtracted {deduction} From the {name}'s score!\") \n",
    "    stu_score(name, abs(deduction)*-1)\n",
    "    \n",
    "\n",
    "def add_score(name, add):\n",
    "    print(f\"Added {add} to the {name}'s score!\")\n",
    "    stu_score(name, abs(add))\n",
    "    \n",
    "\n",
    "def save_score(dict):\n",
    "    with open(\"student_scores.txt\",'w',encoding = 'utf-8') as f:\n",
    "        f.write( str(dict) )\n",
    "\n",
    "\n",
    "def clear_score(database):\n",
    "    database.clear()\n",
    "    save_score(database)  ##This line will clear our database as well.\n",
    "\n"
   ]
  },
  {
   "cell_type": "code",
   "execution_count": 55,
   "metadata": {},
   "outputs": [
    {
     "name": "stdout",
     "output_type": "stream",
     "text": [
      "A new student added!(Amir zar)\n",
      "{'Amir Zar': 90} \n",
      "\n",
      "Added 10 to the Amir zar's score!\n",
      "The student score updated!\n",
      "{'Amir Zar': 100} \n",
      "\n",
      "Subtracted 30 From the Amir zar's score!\n",
      "The student score updated!\n",
      "{'Amir Zar': 70} \n",
      "\n",
      "A new student added!(Oden vangelis)\n",
      "{'Amir Zar': 70, 'Oden Vangelis': 100} \n",
      "\n",
      "Added 50 to the Oden vangelis's score!\n",
      "The student score updated!\n",
      "{'Amir Zar': 70, 'Oden Vangelis': 150} \n",
      "\n",
      "Subtracted 30 From the Oden vangelis's score!\n",
      "The student score updated!\n",
      "{'Amir Zar': 70, 'Oden Vangelis': 120} \n",
      "\n"
     ]
    }
   ],
   "source": [
    "## Now we can use the class we created earlier\n",
    "\n",
    "stu_score('Amir zar', 90)\n",
    "add_score('Amir zar', 10) ## add 10 to the amir's score\n",
    "subtract_scores('Amir zar', 30) ## subtract 30 from the amir's score\n",
    "\n",
    "## add anothe Student \n",
    "stu_score('Oden vangelis', 100)\n",
    "add_score('Oden vangelis', 50)\n",
    "subtract_scores('Oden vangelis', 30)\n",
    "\n",
    "## now lets save the scores in a local database\n",
    "save_score(name_and_scores)"
   ]
  },
  {
   "cell_type": "code",
   "execution_count": 54,
   "metadata": {},
   "outputs": [
    {
     "data": {
      "text/plain": [
       "{}"
      ]
     },
     "execution_count": 54,
     "metadata": {},
     "output_type": "execute_result"
    }
   ],
   "source": [
    "## Now we can delete the student database we created\n",
    "clear_score(name_and_scores)\n",
    "name_and_scores\n"
   ]
  },
  {
   "cell_type": "markdown",
   "metadata": {},
   "source": [
    "Q5"
   ]
  },
  {
   "cell_type": "markdown",
   "metadata": {},
   "source": [
    "A prime number is an integer greater than 1 that is only divisible by one and itself. Write a function that determines whether or not its parameter is prime, returning True if it is and False otherwise. Write a main program that reads an integer from the user and displays a message indicating whether or not it is a prime. Ensure tht the main program will not run if the file containing your solution is imported into another program."
   ]
  },
  {
   "cell_type": "code",
   "execution_count": 80,
   "metadata": {},
   "outputs": [],
   "source": [
    "def prime(num):\n",
    "    flag = True\n",
    "    if not type(num) is int:\n",
    "        raise ValueError(\"Please enter a valid number!\")\n",
    "    if num < 0:\n",
    "        raise ValueError(\"Sorry, no numbers below zero\")\n",
    "    if num > 1:\n",
    "    # check for factors\n",
    "        for i in range(2, num):\n",
    "            if (num % i) == 0:\n",
    "            # if factor is found, set flag to False\n",
    "                flag = False\n",
    "                # break out of loop\n",
    "                break\n",
    "    return (flag)\n",
    "\n"
   ]
  },
  {
   "cell_type": "code",
   "execution_count": 85,
   "metadata": {},
   "outputs": [
    {
     "name": "stdout",
     "output_type": "stream",
     "text": [
      "True\n",
      "True\n",
      "False\n",
      "False\n"
     ]
    }
   ],
   "source": [
    "print(prime(2))\n",
    "print(prime(11))\n",
    "print(prime(12))\n",
    "print(prime(25))\n"
   ]
  }
 ],
 "metadata": {
  "kernelspec": {
   "display_name": "Python 3.9.7 ('base')",
   "language": "python",
   "name": "python3"
  },
  "language_info": {
   "codemirror_mode": {
    "name": "ipython",
    "version": 3
   },
   "file_extension": ".py",
   "mimetype": "text/x-python",
   "name": "python",
   "nbconvert_exporter": "python",
   "pygments_lexer": "ipython3",
   "version": "3.9.7"
  },
  "orig_nbformat": 4,
  "vscode": {
   "interpreter": {
    "hash": "ea3be26687efb83986522bbd2cd966148727cb8caef521a6884d7bd6d6fe96b8"
   }
  }
 },
 "nbformat": 4,
 "nbformat_minor": 2
}
