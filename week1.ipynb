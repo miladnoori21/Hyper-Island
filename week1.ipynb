{
 "cells": [
  {
   "cell_type": "markdown",
   "metadata": {},
   "source": [
    "**Question 1**\n",
    "\n",
    "Create a program that reads two integers, **a** and *b*, from the user. Your program should compute and display:\n",
    "    1. The sum of **a** and **b.**\n",
    "    2. The difference when **b** is subtracted from *a*\n",
    "    3. The product of **a** and *b*\n",
    "    4. The quotient when **a** is divided by *b*\n",
    "    5. The remainder when **a** is divided by *b*\n",
    "    6. The result of $log_{10}a$\n",
    "    7. The result of"
   ]
  },
  {
   "cell_type": "code",
   "execution_count": 30,
   "metadata": {},
   "outputs": [
    {
     "name": "stdout",
     "output_type": "stream",
     "text": [
      "your first number is 12 \n",
      "\n",
      "your second number is 12 \n",
      "\n",
      "second-first is : 0 \n",
      "\n",
      "first*second is : 144\n",
      "\n",
      "the quotient is : 1 \n",
      "\n",
      "the remainder is : 0 \n",
      "\n",
      "the log(first) is : 1.0791812460476247 \n",
      "\n",
      "the sum is : 24 \n",
      "\n",
      "the first^second is : 8916100448256 \n",
      "\n"
     ]
    }
   ],
   "source": [
    "import math \n",
    "\n",
    "a = int(input(\"please eneter the first number : \"))\n",
    "b = int(input(\"please eneter the second number : \"))\n",
    "\n",
    "\n",
    "sum = a +b \n",
    "sub = b - a\n",
    "prod = a * b \n",
    "quotient = a//b \n",
    "remainder = a%b \n",
    "log = math.log(a,10)\n",
    "pow = a**b \n",
    "print(f\"your first number is {a} \\n\")\n",
    "print(f\"your second number is {b} \\n\")\n",
    "print(f\"second-first is : {sub} \\n\")\n",
    "print(f\"first*second is : {prod}\\n\")\n",
    "print(f\"the quotient is : {quotient} \\n\")\n",
    "print(f\"the remainder is : {remainder} \\n\")\n",
    "print(f\"the log(first) is : {log} \\n\")\n",
    "print(f\"the sum is : {sum} \\n\")\n",
    "print(f\"the first^second is : {pow} \\n\")"
   ]
  },
  {
   "cell_type": "markdown",
   "metadata": {},
   "source": [
    "**Question 2**\n",
    "\n",
    "In the US, fuel efficiency for vehicles is normally expressed in miles-per-gallon (MPG). In Canada, fuel efficiency is normally expressed in liters-per-hundred-kilometers (L/100 km). Use your research skills to determine how to convert from MPG to L/100 km. Then create a program that reads a value from the user (in American units) and displays the equivalent fuel efficiency in Canadian units."
   ]
  },
  {
   "cell_type": "code",
   "execution_count": 78,
   "metadata": {},
   "outputs": [
    {
     "name": "stdout",
     "output_type": "stream",
     "text": [
      "Your fuel efficiency is 19.600833333333334 Liters per kilometers (L/km).\n"
     ]
    }
   ],
   "source": [
    "mile_per_gallon = int(input(\"please eneter fuel efficiency based on the American Standard (MPG) first number : \"))\n",
    "# we know L / 100km = 235.21 / x mile_per_gallon\n",
    "l_100km = 235.21 / mile_per_gallon\n",
    "print(f\"Your fuel efficiency is {l_100km} Liters per kilometers (L/km).\")"
   ]
  },
  {
   "cell_type": "code",
   "execution_count": 79,
   "metadata": {},
   "outputs": [
    {
     "data": {
      "text/plain": [
       "2.3521"
      ]
     },
     "execution_count": 79,
     "metadata": {},
     "output_type": "execute_result"
    }
   ],
   "source": [
    "def liter_100km(mile_per_gallon_):\n",
    "    liter_100km = 235.21 / mile_per_gallon_\n",
    "    return liter_100km\n",
    "liter_100km(100)"
   ]
  },
  {
   "cell_type": "markdown",
   "metadata": {},
   "source": [
    "**Question 3**"
   ]
  },
  {
   "cell_type": "markdown",
   "metadata": {},
   "source": [
    "3. The surface of the earth is curved, and the distance between degrees of longitude varies with latitude. As a result, finding the distance between two points on the surface of the earth is more complicated than simply using the Pythagorean theorem. The equation for finding the distance between two points on the surface of the earth in kilometers is given by:\n",
    "    \n",
    "    $distance = 6371.01 \\times arccos(sin(lat_1) \\times sin(lat_2)+cos(lat_1)\\times cos(lat_2)\\times cos(long_1-long_2))$\n",
    "    \n",
    "    where: $(lat_1, long_1)$ and $(lat_2,long_2)$  are the latitude and longitude of two points on the Earth’s surface.\n",
    "    \n",
    "    Create a program that allows the user to enter the latitude and longitude of two points on the Earth in degrees. Your program should display the distance between the points in kilometers.\n",
    "\n",
    "Also assuming we travel using an aeroplane that is moving at a minimum speed of 740 km/h how long will it take us to travel that distance\n"
   ]
  },
  {
   "cell_type": "code",
   "execution_count": 80,
   "metadata": {},
   "outputs": [
    {
     "name": "stdout",
     "output_type": "stream",
     "text": [
      "The latitude of your first location is  59.425279  and the longitude of your second location is  17.840057 \n",
      "\n",
      "The latitude of your first location is  32.6103  and the longitude of your second location is  51.562301 \n",
      "\n",
      "The distance between your first location and your second location is approximately:   3878.25  Killometers! \n",
      "\n",
      " Your travel is going to be last approximately 5.24 hours. \n",
      "\n"
     ]
    }
   ],
   "source": [
    "import math \n",
    "\n",
    "## first we get the latitude and longitude of first point\n",
    "latitude1 = math.radians(float(input(\"please eneter the first latitude  : \")))\n",
    "longitude1 = math.radians((float(input(\"please eneter the first longitude  : \"))))\n",
    "    \n",
    "## second we get the latitude and longitude of the second point\n",
    "latitude2 = math.radians(float(input(\"please eneter the second latitude : \")))\n",
    "longitude2 = math.radians(float(input(\"please eneter the second longitude : \")))\n",
    "\n",
    "## now we can calculate the distance between the two points!\n",
    "distance = round(6371.01 * math.acos(math.sin(latitude1) * math.sin(latitude2) + math.cos(latitude1)* math.cos(latitude2)* math.cos(longitude1- longitude2)),2)\n",
    "\n",
    "\n",
    "print(\"The latitude of your first location is \", math.degrees(latitude1), \" and the longitude of your second location is \", math.degrees(longitude1),\"\\n\")\n",
    "print(\"The latitude of your first location is \", math.degrees(latitude2) , \" and the longitude of your second location is \",math.degrees(longitude2) ,\"\\n\")\n",
    "print(\"The distance between your first location and your second location is approximately:  \", distance , \" Killometers!\",\"\\n\")\n",
    "\n",
    "## as an example I used these points \n",
    "## latitude and long 1 : 59.425279 , 17.840057 ( Sweden Stockholm)\n",
    "## latitude and long 2 : 32.610300, 51.562301 ( Iran Isfahan)\n",
    "\n",
    "## second part \n",
    "\n",
    "## based on the formula x = vt \n",
    "##  time = x(km)/v(km/h) | time(h)\n",
    "\n",
    "travel_time = round(distance / 740,2)\n",
    "print(f\" Your travel is going to be last approximately {travel_time} hours.\",\"\\n\")"
   ]
  },
  {
   "cell_type": "markdown",
   "metadata": {},
   "source": [
    "**Question 4**"
   ]
  },
  {
   "cell_type": "markdown",
   "metadata": {},
   "source": [
    "Distance units: Create a program that begins by reading a measurement from the user in feet. Then your program should display the equivalent distance in inches, yards and miles. Use your research skills to look up the necessary conversion factors."
   ]
  },
  {
   "cell_type": "code",
   "execution_count": 81,
   "metadata": {},
   "outputs": [
    {
     "name": "stdout",
     "output_type": "stream",
     "text": [
      "distance_in_feet =  1000.0 \n",
      "\n",
      "distance_in_inches =  12000.0 \n",
      "\n",
      "distance_in_yards =  333.3333333333333 \n",
      "\n",
      "distance_in_miles =  0.1893939393939394 \n",
      "\n"
     ]
    }
   ],
   "source": [
    "import math \n",
    "\n",
    "distance_in_feet = float(input(\"please eneter the distance in feet : \"))\n",
    "\n",
    "# We know that : length in inches = length in feet x 12\n",
    "distance_in_inches = distance_in_feet * 12\n",
    "\n",
    "# We know that :  yards = feet ÷ 3\n",
    "distance_in_yards = distance_in_feet / 3\n",
    "\n",
    "# We know that : 1 mile = 5,280 feet\n",
    "distance_in_miles = distance_in_feet / 5280\n",
    "\n",
    "print(\"distance_in_feet = \", distance_in_feet,\"\\n\")\n",
    "print(\"distance_in_inches = \", distance_in_inches,\"\\n\")\n",
    "print(\"distance_in_yards = \", distance_in_yards,\"\\n\")\n",
    "print(\"distance_in_miles = \", distance_in_miles,\"\\n\")\n"
   ]
  },
  {
   "cell_type": "markdown",
   "metadata": {},
   "source": [
    "**Question 5**"
   ]
  },
  {
   "cell_type": "markdown",
   "metadata": {},
   "source": [
    "5. Area of a regular polygon: A polygon is regular if its sides are all the same length and the angles between all of the adjacent sides are equal. The area of a regular polygon can be computed using the following formula, where ***s*** is the length of a side and ***n*** is the number of sides.\n",
    "    \n",
    "    $\\boxed{area = \\frac {n \\times s^2} {4 \\times \\tan (\\frac{\\pi}{n})} }$\n",
    "    \n",
    "    Write a program that reads ***s*** and ***n*** from the user and then displays the area of a regular polygon constructed from these values."
   ]
  },
  {
   "cell_type": "code",
   "execution_count": 59,
   "metadata": {},
   "outputs": [
    {
     "name": "stdout",
     "output_type": "stream",
     "text": [
      "Please enter a valid number!\n",
      "invalid literal for int() with base 10: 'a'\n",
      "<class 'ValueError'>\n"
     ]
    }
   ],
   "source": [
    "import math \n",
    "\n",
    "try :\n",
    "    s = abs(int(input(\"please eneter the length of the polygon sides: \")))\n",
    "    n = abs(int(input(\"please eneter the number of sides this polygon has : \")))\n",
    "\n",
    "    area = round(( n* math.pow(s,2))/4 * math.tan(math.pi / n))\n",
    "    print(\"The area of the polygon with\" , n, \"sides with the lenght of \" ,s ,\"m is \",area, \"m^2\")\n",
    "except ValueError as ex:\n",
    "    print(\"Please enter a valid number!\")\n",
    "    print(ex)\n",
    "    print(type(ex))"
   ]
  },
  {
   "cell_type": "markdown",
   "metadata": {},
   "source": [
    "**Question 6**"
   ]
  },
  {
   "cell_type": "markdown",
   "metadata": {},
   "source": [
    "Current Time: Python has a couple of modules that can be used when working with time. This includes a module called time and a function/method within the time module called asctime. It reads the current time from the computer’s internal clock and returns it in a human-readable format. Write a program that displays the current time and date. Your program will not require any input from the user."
   ]
  },
  {
   "cell_type": "code",
   "execution_count": 83,
   "metadata": {},
   "outputs": [
    {
     "name": "stdout",
     "output_type": "stream",
     "text": [
      "Seconds since epoch = 1668880558.991969\n",
      "Local time: Sat Nov 19 18:55:58 2022\n",
      "Local time: Sat Nov 19 18:55:58 2022\n"
     ]
    }
   ],
   "source": [
    "import time \n",
    "\n",
    "## The time() function returns the number of seconds passed since epoch.\n",
    "## For Unix system, January 1, 1970, 00:00:00 at UTC is epoch (the point where time begins).\n",
    "\n",
    "seconds = time.time()\n",
    "print(\"Seconds since epoch =\", seconds)\t\n",
    "\n",
    "# seconds passed since epoch\n",
    "local_time = time.ctime(seconds)\n",
    "print(\"Local time:\", local_time)\n",
    "\n",
    "second_approach_local_time = time.asctime()\n",
    "print(\"Local time:\", second_approach_local_time)"
   ]
  },
  {
   "cell_type": "markdown",
   "metadata": {},
   "source": [
    "**Question 7**"
   ]
  },
  {
   "cell_type": "markdown",
   "metadata": {},
   "source": [
    "7. Wind Chill Index: When the wind blows in cold weather, the air feels even colder that it actually is because the movement of the air increases the rate of cooling for warm objects, like people. This effect is known as wind chill.\n",
    "    \n",
    "    The formula below is used to compute the wind chill index. \n",
    "    \n",
    "    $WCI = 13.12 + 0.6215T_a - 11.37V^{0.16}+0.3965T_aV^{0.16}$\n",
    "    \n",
    "    Where: $T_a$ is the air temperature in degrees Celsius and $V$ is the wind speed in kilometers per hour. Write a program that begins by reading the air temperature and wind speed from the user. Once these values have been read, your program should display the wind chill index rounded to the closes integer."
   ]
  },
  {
   "cell_type": "code",
   "execution_count": 58,
   "metadata": {},
   "outputs": [
    {
     "name": "stdout",
     "output_type": "stream",
     "text": [
      " The Wind Chill Index in that condition is  -15\n"
     ]
    }
   ],
   "source": [
    "import math \n",
    "\n",
    "try :\n",
    "    temp = float(input(\"Please enter the temperature in Celsius : \"))\n",
    "    speed = float(input(\"Please enter the speed of the wind in km/h : \"))\n",
    "    if speed < 0 :\n",
    "        raise ValueError(\"Speed could NOT be negative!\")\n",
    "    wci = 13.12 + (0.6215 * temp) - (11.37 * math.pow(speed,0.16)) + (0.3965 * temp * math.pow(speed,0.16))\n",
    "\n",
    "    wci_round = round(wci)\n",
    "\n",
    "    print(\" The Wind Chill Index in that condition is \", wci_round)\n",
    "except ValueError as ex :\n",
    "    print(\"Please enter a valid numbers!\\n\")\n",
    "    print(ex)\n",
    "    print(type(ex))\n",
    "\n",
    "# Ex : speed = 10 km/h and temperature = 10\n"
   ]
  },
  {
   "cell_type": "markdown",
   "metadata": {},
   "source": [
    "**Question 8**"
   ]
  },
  {
   "cell_type": "markdown",
   "metadata": {},
   "source": [
    "TEASER/BONUS QUESTION: Sum of digits in an integer: Develop a program that reads a four digit integer from the user and displays the sum of the digits in the number. For example, if the user enters 3141 then your program should display the result of the sum $3+1+4+1=9$.\n",
    "    \n",
    "**Hint**:Type conversion, string split operation, python sum operation."
   ]
  },
  {
   "cell_type": "code",
   "execution_count": 57,
   "metadata": {},
   "outputs": [
    {
     "name": "stdout",
     "output_type": "stream",
     "text": [
      "1\n"
     ]
    }
   ],
   "source": [
    "try :\n",
    "    n = abs(int(input(\"Please enter a four digit number : \")))\n",
    "    count = 0\n",
    "    sum = 0\n",
    "    while (n != 0):\n",
    "        sum = sum + int(n % 10)\n",
    "        n = int(n/10)\n",
    "        count += 1\n",
    "    if count != 4 :\n",
    "        raise ValueError(\"number should be a four-digit number!\")\n",
    "    print(sum)\n",
    "except ValueError as ex:\n",
    "    print(\"Please enter a valid number!\\n\")\n",
    "    print(ex)\n",
    "    print(type(ex))\n"
   ]
  },
  {
   "cell_type": "code",
   "execution_count": null,
   "metadata": {},
   "outputs": [],
   "source": []
  }
 ],
 "metadata": {
  "kernelspec": {
   "display_name": "Python 3.9.7 ('base')",
   "language": "python",
   "name": "python3"
  },
  "language_info": {
   "codemirror_mode": {
    "name": "ipython",
    "version": 3
   },
   "file_extension": ".py",
   "mimetype": "text/x-python",
   "name": "python",
   "nbconvert_exporter": "python",
   "pygments_lexer": "ipython3",
   "version": "3.9.7"
  },
  "orig_nbformat": 4,
  "vscode": {
   "interpreter": {
    "hash": "ea3be26687efb83986522bbd2cd966148727cb8caef521a6884d7bd6d6fe96b8"
   }
  }
 },
 "nbformat": 4,
 "nbformat_minor": 2
}
